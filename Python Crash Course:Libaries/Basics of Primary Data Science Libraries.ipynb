{
 "cells": [
  {
   "cell_type": "markdown",
   "metadata": {},
   "source": [
    "## Basics of Primary Data Science Libraries - DataBrains"
   ]
  },
  {
   "cell_type": "markdown",
   "metadata": {},
   "source": [
    "We're going to go over some of the basics of the main Python libraries that data scientists use. This overview by no means covers everything. "
   ]
  },
  {
   "cell_type": "markdown",
   "metadata": {},
   "source": [
    "## Numpy"
   ]
  },
  {
   "cell_type": "markdown",
   "metadata": {},
   "source": [
    "In data science, we deal a lot with matrices and linear algebra. This is because we're often given a matrix to represent the data itself: the rows of the matrix represent each individual observation in a set of data, and the columns represent a particular feature of the data. We'll get to that more when we get to Pandas."
   ]
  },
  {
   "cell_type": "code",
   "execution_count": 1,
   "metadata": {},
   "outputs": [
    {
     "data": {
      "text/plain": [
       "array([1, 2, 3])"
      ]
     },
     "execution_count": 1,
     "metadata": {},
     "output_type": "execute_result"
    }
   ],
   "source": [
    "# importing modules looks like this\n",
    "import numpy as np\n",
    "\n",
    "# create a numpy array from a list\n",
    "lst = [1,2,3]\n",
    "np_arr = np.array(lst)\n",
    "np_arr"
   ]
  },
  {
   "cell_type": "code",
   "execution_count": 2,
   "metadata": {},
   "outputs": [
    {
     "name": "stdout",
     "output_type": "stream",
     "text": [
      "(3,)\n"
     ]
    }
   ],
   "source": [
    "# see the shape of the matrix\n",
    "# which we see is a column vector\n",
    "# with 3 entries\n",
    "# (essentially a matrix with three rows and one column)\n",
    "print(np_arr.shape) "
   ]
  },
  {
   "cell_type": "code",
   "execution_count": 3,
   "metadata": {},
   "outputs": [
    {
     "data": {
      "text/plain": [
       "array([[1, 2, 3],\n",
       "       [4, 5, 6],\n",
       "       [7, 8, 9]])"
      ]
     },
     "execution_count": 3,
     "metadata": {},
     "output_type": "execute_result"
    }
   ],
   "source": [
    "# now let's create a 3x3 matrix\n",
    "# must be a list of lists\n",
    "three_by_three = np.array([[1,2,3],[4,5,6],[7,8,9]])\n",
    "three_by_three"
   ]
  },
  {
   "cell_type": "markdown",
   "metadata": {},
   "source": [
    "We deal with numpy arrays in similar ways to lists with regards to indexing them. It's like indexing a list of lists."
   ]
  },
  {
   "cell_type": "code",
   "execution_count": 4,
   "metadata": {},
   "outputs": [
    {
     "data": {
      "text/plain": [
       "3"
      ]
     },
     "execution_count": 4,
     "metadata": {},
     "output_type": "execute_result"
    }
   ],
   "source": [
    "# get entry in the first row of the third column\n",
    "three_by_three[0][2]"
   ]
  },
  {
   "cell_type": "markdown",
   "metadata": {},
   "source": [
    "What if you wanted to get the third column of the matrix?\n",
    "We can also get rows and columns in terms of the following notation:"
   ]
  },
  {
   "cell_type": "code",
   "execution_count": 5,
   "metadata": {},
   "outputs": [
    {
     "data": {
      "text/plain": [
       "array([3, 6, 9])"
      ]
     },
     "execution_count": 5,
     "metadata": {},
     "output_type": "execute_result"
    }
   ],
   "source": [
    "# all rows of the second column\n",
    "# slicing just like with lists\n",
    "three_by_three[:,2]"
   ]
  },
  {
   "cell_type": "markdown",
   "metadata": {},
   "source": [
    "There are a few more complex ways to index things, we just covered the basics. You can find more on this here:\n",
    "https://github.com/trapatsas/Python-Data-Science-and-Machine-Learning-Bootcamp/blob/master/Python-for-Data-Analysis/NumPy/Numpy%20Indexing%20and%20Selection.ipynb"
   ]
  },
  {
   "cell_type": "markdown",
   "metadata": {},
   "source": [
    "We can also do operations on numpy arrays, much like we can with matrices. Of course, just like with matrices, the dimensions have to match up properly."
   ]
  },
  {
   "cell_type": "code",
   "execution_count": 6,
   "metadata": {},
   "outputs": [
    {
     "name": "stdout",
     "output_type": "stream",
     "text": [
      "sum: \n",
      " [[ 5  7]\n",
      " [10  9]]\n",
      "product: \n",
      " [[18 15]\n",
      " [40 35]]\n"
     ]
    }
   ],
   "source": [
    "# addition\n",
    "A = np.array([[1,2],[3,4]])\n",
    "B = np.array([[4,5],[7,5]])\n",
    "C = A + B\n",
    "print(\"sum: \\n {}\".format(C))\n",
    "\n",
    "# multiplication\n",
    "D = A.dot(B)\n",
    "print(\"product: \\n {}\".format(D))"
   ]
  },
  {
   "cell_type": "markdown",
   "metadata": {},
   "source": [
    "Numpy can also be used to generate matrices of zeros, ones, and random numbers sampled from certain distributions:"
   ]
  },
  {
   "cell_type": "code",
   "execution_count": 12,
   "metadata": {},
   "outputs": [
    {
     "name": "stdout",
     "output_type": "stream",
     "text": [
      "matrix of zeros: \n",
      " [[0. 0. 0.]\n",
      " [0. 0. 0.]\n",
      " [0. 0. 0.]]\n",
      "matrix of ones: \n",
      " [[1. 1. 1.]\n",
      " [1. 1. 1.]\n",
      " [1. 1. 1.]]\n",
      "matrix of random values (sampled from standard ND): \n",
      " [[ 0.07796655  0.28211218  0.55545001]\n",
      " [-0.74746461 -0.8894636  -0.59029747]\n",
      " [-0.46023027 -0.35748077 -0.07981353]]\n"
     ]
    }
   ],
   "source": [
    "# matrix of zeros\n",
    "zeros = np.zeros((3,3))\n",
    "print(\"matrix of zeros: \\n {}\".format(zeros))\n",
    "\n",
    "# matrix of ones\n",
    "ones = np.ones((3,3))\n",
    "print(\"matrix of ones: \\n {}\".format(ones))\n",
    "\n",
    "# matrix of random numbers sampled from\n",
    "# standard normal distribution (mean 0 and variance 1)\n",
    "random_normal = np.random.randn(3,3)\n",
    "print(\"matrix of random values (sampled from standard ND): \\n {}\".format(random_normal))"
   ]
  },
  {
   "cell_type": "markdown",
   "metadata": {},
   "source": [
    "These are the basics of Numpy. There are other useful things you can do, including generating an evenly spaced array between two numbers, generating a matrix of numbers sampled from the normal distribution, reshape an array, and more. For a good tutorial/reference guide, go here: https://github.com/trapatsas/Python-Data-Science-and-Machine-Learning-Bootcamp/blob/master/Python-for-Data-Analysis/NumPy/NumPy%20Arrays.ipynb"
   ]
  },
  {
   "cell_type": "markdown",
   "metadata": {},
   "source": [
    "## Pandas"
   ]
  },
  {
   "cell_type": "markdown",
   "metadata": {},
   "source": [
    "Like we said before, in data science, we work a lot with data in the form of matrices. However, how would we know what columns correspond to a particular feature? This is where Pandas DataFrames come in. Let's look at this example:"
   ]
  },
  {
   "cell_type": "code",
   "execution_count": 7,
   "metadata": {},
   "outputs": [
    {
     "data": {
      "text/html": [
       "<div>\n",
       "<style scoped>\n",
       "    .dataframe tbody tr th:only-of-type {\n",
       "        vertical-align: middle;\n",
       "    }\n",
       "\n",
       "    .dataframe tbody tr th {\n",
       "        vertical-align: top;\n",
       "    }\n",
       "\n",
       "    .dataframe thead th {\n",
       "        text-align: right;\n",
       "    }\n",
       "</style>\n",
       "<table border=\"1\" class=\"dataframe\">\n",
       "  <thead>\n",
       "    <tr style=\"text-align: right;\">\n",
       "      <th></th>\n",
       "      <th>Label1</th>\n",
       "      <th>Label2</th>\n",
       "      <th>Label3</th>\n",
       "      <th>Label4</th>\n",
       "    </tr>\n",
       "  </thead>\n",
       "  <tbody>\n",
       "    <tr>\n",
       "      <th>0</th>\n",
       "      <td>1.259835</td>\n",
       "      <td>0.852784</td>\n",
       "      <td>1.578164</td>\n",
       "      <td>-0.555832</td>\n",
       "    </tr>\n",
       "    <tr>\n",
       "      <th>1</th>\n",
       "      <td>-1.106229</td>\n",
       "      <td>0.959215</td>\n",
       "      <td>1.406344</td>\n",
       "      <td>-1.190568</td>\n",
       "    </tr>\n",
       "    <tr>\n",
       "      <th>2</th>\n",
       "      <td>-0.414445</td>\n",
       "      <td>0.722463</td>\n",
       "      <td>-0.568010</td>\n",
       "      <td>0.759718</td>\n",
       "    </tr>\n",
       "    <tr>\n",
       "      <th>3</th>\n",
       "      <td>-0.155531</td>\n",
       "      <td>-1.196732</td>\n",
       "      <td>-1.953683</td>\n",
       "      <td>0.379777</td>\n",
       "    </tr>\n",
       "    <tr>\n",
       "      <th>4</th>\n",
       "      <td>-0.257249</td>\n",
       "      <td>0.519819</td>\n",
       "      <td>0.147892</td>\n",
       "      <td>1.666469</td>\n",
       "    </tr>\n",
       "  </tbody>\n",
       "</table>\n",
       "</div>"
      ],
      "text/plain": [
       "     Label1    Label2    Label3    Label4\n",
       "0  1.259835  0.852784  1.578164 -0.555832\n",
       "1 -1.106229  0.959215  1.406344 -1.190568\n",
       "2 -0.414445  0.722463 -0.568010  0.759718\n",
       "3 -0.155531 -1.196732 -1.953683  0.379777\n",
       "4 -0.257249  0.519819  0.147892  1.666469"
      ]
     },
     "execution_count": 7,
     "metadata": {},
     "output_type": "execute_result"
    }
   ],
   "source": [
    "# import pandas\n",
    "import pandas as pd\n",
    "\n",
    "df = pd.DataFrame(np.random.randn(5,4),columns='Label1 Label2 Label3 Label4'.split())\n",
    "df"
   ]
  },
  {
   "cell_type": "markdown",
   "metadata": {},
   "source": [
    "What did we do here?\n",
    "\n",
    "- We created a numpy array that is a 5x4 matrix of random values\n",
    "- We passed in the column names as a list using the .split() method (the default param is a space)\n",
    "- We passed these both in as parameters to a Pandas Dataframe"
   ]
  },
  {
   "cell_type": "markdown",
   "metadata": {},
   "source": [
    "We can do a variety of things with Dataframes. Here are a few:"
   ]
  },
  {
   "cell_type": "code",
   "execution_count": 14,
   "metadata": {},
   "outputs": [
    {
     "name": "stdout",
     "output_type": "stream",
     "text": [
      "0    1.259835\n",
      "1   -1.106229\n",
      "2   -0.414445\n",
      "3   -0.155531\n",
      "4   -0.257249\n",
      "Name: Label1, dtype: float64\n"
     ]
    },
    {
     "data": {
      "text/html": [
       "<div>\n",
       "<style scoped>\n",
       "    .dataframe tbody tr th:only-of-type {\n",
       "        vertical-align: middle;\n",
       "    }\n",
       "\n",
       "    .dataframe tbody tr th {\n",
       "        vertical-align: top;\n",
       "    }\n",
       "\n",
       "    .dataframe thead th {\n",
       "        text-align: right;\n",
       "    }\n",
       "</style>\n",
       "<table border=\"1\" class=\"dataframe\">\n",
       "  <thead>\n",
       "    <tr style=\"text-align: right;\">\n",
       "      <th></th>\n",
       "      <th>Label1</th>\n",
       "      <th>Label2</th>\n",
       "    </tr>\n",
       "  </thead>\n",
       "  <tbody>\n",
       "    <tr>\n",
       "      <th>0</th>\n",
       "      <td>1.259835</td>\n",
       "      <td>0.852784</td>\n",
       "    </tr>\n",
       "    <tr>\n",
       "      <th>1</th>\n",
       "      <td>-1.106229</td>\n",
       "      <td>0.959215</td>\n",
       "    </tr>\n",
       "    <tr>\n",
       "      <th>2</th>\n",
       "      <td>-0.414445</td>\n",
       "      <td>0.722463</td>\n",
       "    </tr>\n",
       "    <tr>\n",
       "      <th>3</th>\n",
       "      <td>-0.155531</td>\n",
       "      <td>-1.196732</td>\n",
       "    </tr>\n",
       "    <tr>\n",
       "      <th>4</th>\n",
       "      <td>-0.257249</td>\n",
       "      <td>0.519819</td>\n",
       "    </tr>\n",
       "  </tbody>\n",
       "</table>\n",
       "</div>"
      ],
      "text/plain": [
       "     Label1    Label2\n",
       "0  1.259835  0.852784\n",
       "1 -1.106229  0.959215\n",
       "2 -0.414445  0.722463\n",
       "3 -0.155531 -1.196732\n",
       "4 -0.257249  0.519819"
      ]
     },
     "execution_count": 14,
     "metadata": {},
     "output_type": "execute_result"
    }
   ],
   "source": [
    "# select a single column\n",
    "# returns a series object\n",
    "print(df['Label1'])\n",
    "\n",
    "# select a subset of the dataframe\n",
    "# which is also a dataframe\n",
    "df[['Label1','Label2']]"
   ]
  },
  {
   "cell_type": "code",
   "execution_count": 15,
   "metadata": {},
   "outputs": [
    {
     "data": {
      "text/html": [
       "<div>\n",
       "<style scoped>\n",
       "    .dataframe tbody tr th:only-of-type {\n",
       "        vertical-align: middle;\n",
       "    }\n",
       "\n",
       "    .dataframe tbody tr th {\n",
       "        vertical-align: top;\n",
       "    }\n",
       "\n",
       "    .dataframe thead th {\n",
       "        text-align: right;\n",
       "    }\n",
       "</style>\n",
       "<table border=\"1\" class=\"dataframe\">\n",
       "  <thead>\n",
       "    <tr style=\"text-align: right;\">\n",
       "      <th></th>\n",
       "      <th>Label1</th>\n",
       "      <th>Label2</th>\n",
       "      <th>Label3</th>\n",
       "      <th>Label4</th>\n",
       "      <th>Label5</th>\n",
       "    </tr>\n",
       "  </thead>\n",
       "  <tbody>\n",
       "    <tr>\n",
       "      <th>0</th>\n",
       "      <td>1.259835</td>\n",
       "      <td>0.852784</td>\n",
       "      <td>1.578164</td>\n",
       "      <td>-0.555832</td>\n",
       "      <td>2.112618</td>\n",
       "    </tr>\n",
       "    <tr>\n",
       "      <th>1</th>\n",
       "      <td>-1.106229</td>\n",
       "      <td>0.959215</td>\n",
       "      <td>1.406344</td>\n",
       "      <td>-1.190568</td>\n",
       "      <td>-0.147014</td>\n",
       "    </tr>\n",
       "    <tr>\n",
       "      <th>2</th>\n",
       "      <td>-0.414445</td>\n",
       "      <td>0.722463</td>\n",
       "      <td>-0.568010</td>\n",
       "      <td>0.759718</td>\n",
       "      <td>0.308018</td>\n",
       "    </tr>\n",
       "    <tr>\n",
       "      <th>3</th>\n",
       "      <td>-0.155531</td>\n",
       "      <td>-1.196732</td>\n",
       "      <td>-1.953683</td>\n",
       "      <td>0.379777</td>\n",
       "      <td>-1.352263</td>\n",
       "    </tr>\n",
       "    <tr>\n",
       "      <th>4</th>\n",
       "      <td>-0.257249</td>\n",
       "      <td>0.519819</td>\n",
       "      <td>0.147892</td>\n",
       "      <td>1.666469</td>\n",
       "      <td>0.262570</td>\n",
       "    </tr>\n",
       "  </tbody>\n",
       "</table>\n",
       "</div>"
      ],
      "text/plain": [
       "     Label1    Label2    Label3    Label4    Label5\n",
       "0  1.259835  0.852784  1.578164 -0.555832  2.112618\n",
       "1 -1.106229  0.959215  1.406344 -1.190568 -0.147014\n",
       "2 -0.414445  0.722463 -0.568010  0.759718  0.308018\n",
       "3 -0.155531 -1.196732 -1.953683  0.379777 -1.352263\n",
       "4 -0.257249  0.519819  0.147892  1.666469  0.262570"
      ]
     },
     "execution_count": 15,
     "metadata": {},
     "output_type": "execute_result"
    }
   ],
   "source": [
    "# we can create new columns\n",
    "# addition\n",
    "df['Label5'] = df['Label1'] + df['Label2']\n",
    "df"
   ]
  },
  {
   "cell_type": "code",
   "execution_count": 18,
   "metadata": {},
   "outputs": [
    {
     "data": {
      "text/html": [
       "<div>\n",
       "<style scoped>\n",
       "    .dataframe tbody tr th:only-of-type {\n",
       "        vertical-align: middle;\n",
       "    }\n",
       "\n",
       "    .dataframe tbody tr th {\n",
       "        vertical-align: top;\n",
       "    }\n",
       "\n",
       "    .dataframe thead th {\n",
       "        text-align: right;\n",
       "    }\n",
       "</style>\n",
       "<table border=\"1\" class=\"dataframe\">\n",
       "  <thead>\n",
       "    <tr style=\"text-align: right;\">\n",
       "      <th></th>\n",
       "      <th>Label1</th>\n",
       "      <th>Label2</th>\n",
       "      <th>Label3</th>\n",
       "      <th>Label4</th>\n",
       "      <th>Label5</th>\n",
       "      <th>Label6</th>\n",
       "    </tr>\n",
       "  </thead>\n",
       "  <tbody>\n",
       "    <tr>\n",
       "      <th>0</th>\n",
       "      <td>1.259835</td>\n",
       "      <td>0.852784</td>\n",
       "      <td>1.578164</td>\n",
       "      <td>-0.555832</td>\n",
       "      <td>2.112618</td>\n",
       "      <td>1.587183</td>\n",
       "    </tr>\n",
       "    <tr>\n",
       "      <th>1</th>\n",
       "      <td>-1.106229</td>\n",
       "      <td>0.959215</td>\n",
       "      <td>1.406344</td>\n",
       "      <td>-1.190568</td>\n",
       "      <td>-0.147014</td>\n",
       "      <td>1.223743</td>\n",
       "    </tr>\n",
       "    <tr>\n",
       "      <th>2</th>\n",
       "      <td>-0.414445</td>\n",
       "      <td>0.722463</td>\n",
       "      <td>-0.568010</td>\n",
       "      <td>0.759718</td>\n",
       "      <td>0.308018</td>\n",
       "      <td>0.171765</td>\n",
       "    </tr>\n",
       "    <tr>\n",
       "      <th>3</th>\n",
       "      <td>-0.155531</td>\n",
       "      <td>-1.196732</td>\n",
       "      <td>-1.953683</td>\n",
       "      <td>0.379777</td>\n",
       "      <td>-1.352263</td>\n",
       "      <td>0.024190</td>\n",
       "    </tr>\n",
       "    <tr>\n",
       "      <th>4</th>\n",
       "      <td>-0.257249</td>\n",
       "      <td>0.519819</td>\n",
       "      <td>0.147892</td>\n",
       "      <td>1.666469</td>\n",
       "      <td>0.262570</td>\n",
       "      <td>0.066177</td>\n",
       "    </tr>\n",
       "  </tbody>\n",
       "</table>\n",
       "</div>"
      ],
      "text/plain": [
       "     Label1    Label2    Label3    Label4    Label5    Label6\n",
       "0  1.259835  0.852784  1.578164 -0.555832  2.112618  1.587183\n",
       "1 -1.106229  0.959215  1.406344 -1.190568 -0.147014  1.223743\n",
       "2 -0.414445  0.722463 -0.568010  0.759718  0.308018  0.171765\n",
       "3 -0.155531 -1.196732 -1.953683  0.379777 -1.352263  0.024190\n",
       "4 -0.257249  0.519819  0.147892  1.666469  0.262570  0.066177"
      ]
     },
     "execution_count": 18,
     "metadata": {},
     "output_type": "execute_result"
    }
   ],
   "source": [
    "# can apply functions to columns\n",
    "def square(x):\n",
    "    return x**2\n",
    "df['Label6'] = df['Label1'].apply(square)\n",
    "df"
   ]
  },
  {
   "cell_type": "code",
   "execution_count": 19,
   "metadata": {},
   "outputs": [
    {
     "data": {
      "text/html": [
       "<div>\n",
       "<style scoped>\n",
       "    .dataframe tbody tr th:only-of-type {\n",
       "        vertical-align: middle;\n",
       "    }\n",
       "\n",
       "    .dataframe tbody tr th {\n",
       "        vertical-align: top;\n",
       "    }\n",
       "\n",
       "    .dataframe thead th {\n",
       "        text-align: right;\n",
       "    }\n",
       "</style>\n",
       "<table border=\"1\" class=\"dataframe\">\n",
       "  <thead>\n",
       "    <tr style=\"text-align: right;\">\n",
       "      <th></th>\n",
       "      <th>Label1</th>\n",
       "      <th>Label2</th>\n",
       "      <th>Label3</th>\n",
       "      <th>Label4</th>\n",
       "      <th>Label5</th>\n",
       "      <th>Label6</th>\n",
       "    </tr>\n",
       "  </thead>\n",
       "  <tbody>\n",
       "    <tr>\n",
       "      <th>0</th>\n",
       "      <td>1.259835</td>\n",
       "      <td>0.852784</td>\n",
       "      <td>1.578164</td>\n",
       "      <td>-0.555832</td>\n",
       "      <td>2.112618</td>\n",
       "      <td>1.587183</td>\n",
       "    </tr>\n",
       "    <tr>\n",
       "      <th>1</th>\n",
       "      <td>-1.106229</td>\n",
       "      <td>0.959215</td>\n",
       "      <td>1.406344</td>\n",
       "      <td>-1.190568</td>\n",
       "      <td>-0.147014</td>\n",
       "      <td>1.223743</td>\n",
       "    </tr>\n",
       "    <tr>\n",
       "      <th>2</th>\n",
       "      <td>-0.414445</td>\n",
       "      <td>0.722463</td>\n",
       "      <td>-0.568010</td>\n",
       "      <td>0.759718</td>\n",
       "      <td>0.308018</td>\n",
       "      <td>0.171765</td>\n",
       "    </tr>\n",
       "    <tr>\n",
       "      <th>3</th>\n",
       "      <td>-0.155531</td>\n",
       "      <td>-1.196732</td>\n",
       "      <td>-1.953683</td>\n",
       "      <td>0.379777</td>\n",
       "      <td>-1.352263</td>\n",
       "      <td>0.024190</td>\n",
       "    </tr>\n",
       "    <tr>\n",
       "      <th>4</th>\n",
       "      <td>-0.257249</td>\n",
       "      <td>0.519819</td>\n",
       "      <td>0.147892</td>\n",
       "      <td>1.666469</td>\n",
       "      <td>0.262570</td>\n",
       "      <td>0.066177</td>\n",
       "    </tr>\n",
       "  </tbody>\n",
       "</table>\n",
       "</div>"
      ],
      "text/plain": [
       "     Label1    Label2    Label3    Label4    Label5    Label6\n",
       "0  1.259835  0.852784  1.578164 -0.555832  2.112618  1.587183\n",
       "1 -1.106229  0.959215  1.406344 -1.190568 -0.147014  1.223743\n",
       "2 -0.414445  0.722463 -0.568010  0.759718  0.308018  0.171765\n",
       "3 -0.155531 -1.196732 -1.953683  0.379777 -1.352263  0.024190\n",
       "4 -0.257249  0.519819  0.147892  1.666469  0.262570  0.066177"
      ]
     },
     "execution_count": 19,
     "metadata": {},
     "output_type": "execute_result"
    }
   ],
   "source": [
    "# easier way to do it using lambda functions (anonymous functions)\n",
    "df['Label6'] = df['Label1'].apply(lambda x:x**2)\n",
    "df"
   ]
  },
  {
   "cell_type": "markdown",
   "metadata": {},
   "source": [
    "Just like we can index Numpy arrays, we can index Pandas dataframes. We use the .loc method, here's some ways to do it:"
   ]
  },
  {
   "cell_type": "code",
   "execution_count": 20,
   "metadata": {},
   "outputs": [
    {
     "data": {
      "text/plain": [
       "Label1    1.259835\n",
       "Label2    0.852784\n",
       "Label3    1.578164\n",
       "Label4   -0.555832\n",
       "Label5    2.112618\n",
       "Label6    1.587183\n",
       "Name: 0, dtype: float64"
      ]
     },
     "execution_count": 20,
     "metadata": {},
     "output_type": "execute_result"
    }
   ],
   "source": [
    "# how to select a row\n",
    "# using .loc\n",
    "# we need to select by the index\n",
    "# also returns a series object\n",
    "df.loc[0]"
   ]
  },
  {
   "cell_type": "code",
   "execution_count": 22,
   "metadata": {},
   "outputs": [
    {
     "data": {
      "text/plain": [
       "1.2598346650132635"
      ]
     },
     "execution_count": 22,
     "metadata": {},
     "output_type": "execute_result"
    }
   ],
   "source": [
    "# how to get a particular element\n",
    "df.loc[0,'Label1']"
   ]
  },
  {
   "cell_type": "code",
   "execution_count": 23,
   "metadata": {},
   "outputs": [
    {
     "data": {
      "text/html": [
       "<div>\n",
       "<style scoped>\n",
       "    .dataframe tbody tr th:only-of-type {\n",
       "        vertical-align: middle;\n",
       "    }\n",
       "\n",
       "    .dataframe tbody tr th {\n",
       "        vertical-align: top;\n",
       "    }\n",
       "\n",
       "    .dataframe thead th {\n",
       "        text-align: right;\n",
       "    }\n",
       "</style>\n",
       "<table border=\"1\" class=\"dataframe\">\n",
       "  <thead>\n",
       "    <tr style=\"text-align: right;\">\n",
       "      <th></th>\n",
       "      <th>Label1</th>\n",
       "      <th>Label2</th>\n",
       "      <th>Label3</th>\n",
       "      <th>Label4</th>\n",
       "    </tr>\n",
       "  </thead>\n",
       "  <tbody>\n",
       "    <tr>\n",
       "      <th>1</th>\n",
       "      <td>-1.106229</td>\n",
       "      <td>0.959215</td>\n",
       "      <td>1.406344</td>\n",
       "      <td>-1.190568</td>\n",
       "    </tr>\n",
       "    <tr>\n",
       "      <th>2</th>\n",
       "      <td>-0.414445</td>\n",
       "      <td>0.722463</td>\n",
       "      <td>-0.568010</td>\n",
       "      <td>0.759718</td>\n",
       "    </tr>\n",
       "    <tr>\n",
       "      <th>3</th>\n",
       "      <td>-0.155531</td>\n",
       "      <td>-1.196732</td>\n",
       "      <td>-1.953683</td>\n",
       "      <td>0.379777</td>\n",
       "    </tr>\n",
       "    <tr>\n",
       "      <th>4</th>\n",
       "      <td>-0.257249</td>\n",
       "      <td>0.519819</td>\n",
       "      <td>0.147892</td>\n",
       "      <td>1.666469</td>\n",
       "    </tr>\n",
       "  </tbody>\n",
       "</table>\n",
       "</div>"
      ],
      "text/plain": [
       "     Label1    Label2    Label3    Label4\n",
       "1 -1.106229  0.959215  1.406344 -1.190568\n",
       "2 -0.414445  0.722463 -0.568010  0.759718\n",
       "3 -0.155531 -1.196732 -1.953683  0.379777\n",
       "4 -0.257249  0.519819  0.147892  1.666469"
      ]
     },
     "execution_count": 23,
     "metadata": {},
     "output_type": "execute_result"
    }
   ],
   "source": [
    "# how to using slicing to get a subset\n",
    "# just like in numpy\n",
    "df.loc[1:,'Label1':'Label4']"
   ]
  },
  {
   "cell_type": "markdown",
   "metadata": {},
   "source": [
    "We can also get subsets of the dataframe using booleans:"
   ]
  },
  {
   "cell_type": "code",
   "execution_count": 29,
   "metadata": {},
   "outputs": [
    {
     "data": {
      "text/html": [
       "<div>\n",
       "<style scoped>\n",
       "    .dataframe tbody tr th:only-of-type {\n",
       "        vertical-align: middle;\n",
       "    }\n",
       "\n",
       "    .dataframe tbody tr th {\n",
       "        vertical-align: top;\n",
       "    }\n",
       "\n",
       "    .dataframe thead th {\n",
       "        text-align: right;\n",
       "    }\n",
       "</style>\n",
       "<table border=\"1\" class=\"dataframe\">\n",
       "  <thead>\n",
       "    <tr style=\"text-align: right;\">\n",
       "      <th></th>\n",
       "      <th>Label1</th>\n",
       "      <th>Label2</th>\n",
       "      <th>Label3</th>\n",
       "      <th>Label4</th>\n",
       "      <th>Label5</th>\n",
       "      <th>Label6</th>\n",
       "    </tr>\n",
       "  </thead>\n",
       "  <tbody>\n",
       "    <tr>\n",
       "      <th>0</th>\n",
       "      <td>1.259835</td>\n",
       "      <td>0.852784</td>\n",
       "      <td>1.578164</td>\n",
       "      <td>-0.555832</td>\n",
       "      <td>2.112618</td>\n",
       "      <td>1.587183</td>\n",
       "    </tr>\n",
       "    <tr>\n",
       "      <th>1</th>\n",
       "      <td>-1.106229</td>\n",
       "      <td>0.959215</td>\n",
       "      <td>1.406344</td>\n",
       "      <td>-1.190568</td>\n",
       "      <td>-0.147014</td>\n",
       "      <td>1.223743</td>\n",
       "    </tr>\n",
       "    <tr>\n",
       "      <th>2</th>\n",
       "      <td>-0.414445</td>\n",
       "      <td>0.722463</td>\n",
       "      <td>-0.568010</td>\n",
       "      <td>0.759718</td>\n",
       "      <td>0.308018</td>\n",
       "      <td>0.171765</td>\n",
       "    </tr>\n",
       "    <tr>\n",
       "      <th>4</th>\n",
       "      <td>-0.257249</td>\n",
       "      <td>0.519819</td>\n",
       "      <td>0.147892</td>\n",
       "      <td>1.666469</td>\n",
       "      <td>0.262570</td>\n",
       "      <td>0.066177</td>\n",
       "    </tr>\n",
       "  </tbody>\n",
       "</table>\n",
       "</div>"
      ],
      "text/plain": [
       "     Label1    Label2    Label3    Label4    Label5    Label6\n",
       "0  1.259835  0.852784  1.578164 -0.555832  2.112618  1.587183\n",
       "1 -1.106229  0.959215  1.406344 -1.190568 -0.147014  1.223743\n",
       "2 -0.414445  0.722463 -0.568010  0.759718  0.308018  0.171765\n",
       "4 -0.257249  0.519819  0.147892  1.666469  0.262570  0.066177"
      ]
     },
     "execution_count": 29,
     "metadata": {},
     "output_type": "execute_result"
    }
   ],
   "source": [
    "# get subsset of dataframe where\n",
    "# Label2 > 0\n",
    "df[df['Label2']>0]"
   ]
  },
  {
   "cell_type": "markdown",
   "metadata": {},
   "source": [
    "Those are some of the basics of Pandas, some of the things we didn't touch on:\n",
    "\n",
    "- Reading in a csv/excel file\n",
    "- Multilevel indexing\n",
    "- Merging, concatening, and joining\n",
    "- Dealing with missing data\n",
    "\n",
    "Really good reference right here: https://github.com/trapatsas/Python-Data-Science-and-Machine-Learning-Bootcamp/tree/master/Python-for-Data-Analysis/Pandas"
   ]
  },
  {
   "cell_type": "markdown",
   "metadata": {},
   "source": [
    "## Matplotlib"
   ]
  },
  {
   "cell_type": "markdown",
   "metadata": {},
   "source": [
    "Matplotlib is a data visualization library that is very similar to Matlab's data visualization. Let's do some basic examples:"
   ]
  },
  {
   "cell_type": "code",
   "execution_count": 31,
   "metadata": {},
   "outputs": [
    {
     "data": {
      "image/png": "[encoded data removed]",
      "text/plain": [
       "<Figure size 432x288 with 1 Axes>"
      ]
     },
     "metadata": {
      "needs_background": "light"
     },
     "output_type": "display_data"
    }
   ],
   "source": [
    "# import the library\n",
    "import matplotlib.pyplot as plt\n",
    "\n",
    "# creating a basic plot\n",
    "# of y = 2x\n",
    "# we use np.arange, which is very similar to range for lists\n",
    "X = np.arange(0,100)\n",
    "y = 2 * X\n",
    "\n",
    "# plots it as a line (connects all the points)\n",
    "plt.plot(X,y)\n",
    "\n",
    "# set the label on X axis\n",
    "plt.xlabel('X')\n",
    "\n",
    "# set the label on the Y axis\n",
    "plt.ylabel('Y')\n",
    "\n",
    "# title the graph\n",
    "plt.title('y = 2x')\n",
    "\n",
    "# need to do this to display the graph\n",
    "plt.show()"
   ]
  },
  {
   "cell_type": "markdown",
   "metadata": {},
   "source": [
    "We'll look at a few more functionalities that can be useful:"
   ]
  },
  {
   "cell_type": "code",
   "execution_count": 40,
   "metadata": {},
   "outputs": [
    {
     "data": {
      "image/png": "[encoded data removed]",
      "text/plain": [
       "<Figure size 720x576 with 2 Axes>"
      ]
     },
     "metadata": {
      "needs_background": "light"
     },
     "output_type": "display_data"
    }
   ],
   "source": [
    "# we can create a figure of subplots like this:\n",
    "\n",
    "# fig size is (width,height)\n",
    "fig, axes = plt.subplots(figsize=(10,8),nrows=1,ncols=2)\n",
    "\n",
    "# axes is a list in this case, but could also be a matrix if it\n",
    "# were, for example, 2x2\n",
    "\n",
    "X1 = np.arange(0,100)\n",
    "y1 = X1 * 2\n",
    "axes[0].set_xlabel('X1')\n",
    "axes[0].set_ylabel('y1')\n",
    "axes[0].set_title('y = 2x')\n",
    "axes[0].plot(X1,y1)\n",
    "\n",
    "X2 = np.arange(0,100)\n",
    "y2 = X2**2\n",
    "axes[1].set_xlabel('X2')\n",
    "axes[1].set_ylabel('y2')\n",
    "axes[1].set_title('y = x^2')\n",
    "\n",
    "# 'r' means red\n",
    "axes[1].plot(X2,y2,'r')\n",
    "\n",
    "plt.show()"
   ]
  },
  {
   "cell_type": "markdown",
   "metadata": {},
   "source": [
    "We can also do scatterplots and histograms:"
   ]
  },
  {
   "cell_type": "code",
   "execution_count": 46,
   "metadata": {},
   "outputs": [
    {
     "data": {
      "image/png": "[encoded data removed]",
      "text/plain": [
       "<Figure size 432x288 with 1 Axes>"
      ]
     },
     "metadata": {
      "needs_background": "light"
     },
     "output_type": "display_data"
    }
   ],
   "source": [
    "# create random y value for each x value\n",
    "\n",
    "# scatter plot\n",
    "X = np.arange(0,100)\n",
    "y = np.random.rand(100)\n",
    "\n",
    "plt.scatter(X,y)\n",
    "plt.show()"
   ]
  },
  {
   "cell_type": "code",
   "execution_count": 47,
   "metadata": {},
   "outputs": [
    {
     "data": {
      "image/png": "[encoded data removed]",
      "text/plain": [
       "<Figure size 432x288 with 1 Axes>"
      ]
     },
     "metadata": {
      "needs_background": "light"
     },
     "output_type": "display_data"
    }
   ],
   "source": [
    "X = np.random.randn(100)\n",
    "plt.hist(X)\n",
    "plt.show()"
   ]
  },
  {
   "cell_type": "markdown",
   "metadata": {},
   "source": [
    "There's definitely more to cover, but this gives you a basic overview: look here for more in-depth examples:\n",
    "https://github.com/trapatsas/Python-Data-Science-and-Machine-Learning-Bootcamp/tree/master/Python-for-Data-Visualization/Matplotlib"
   ]
  },
  {
   "cell_type": "markdown",
   "metadata": {},
   "source": [
    "## End"
   ]
  },
  {
   "cell_type": "code",
   "execution_count": null,
   "metadata": {},
   "outputs": [],
   "source": []
  }
 ],
 "metadata": {
  "kernelspec": {
   "display_name": "Python 2",
   "language": "python",
   "name": "python2"
  },
  "language_info": {
   "codemirror_mode": {
    "name": "ipython",
    "version": 2
   },
   "file_extension": ".py",
   "mimetype": "text/x-python",
   "name": "python",
   "nbconvert_exporter": "python",
   "pygments_lexer": "ipython2",
   "version": "2.7.15"
  }
 },
 "nbformat": 4,
 "nbformat_minor": 2
}
