{
 "cells": [
  {
   "cell_type": "markdown",
   "metadata": {},
   "source": [
    "## Basics of Primary Data Science Libraries - DataBrains"
   ]
  },
  {
   "cell_type": "markdown",
   "metadata": {},
   "source": [
    "We're going to go over some of the basics of the main Python libraries that data scientists use. This overview by no means covers everything. "
   ]
  },
  {
   "cell_type": "markdown",
   "metadata": {},
   "source": [
    "## Numpy"
   ]
  },
  {
   "cell_type": "markdown",
   "metadata": {},
   "source": [
    "In data science, we deal a lot with matrices and linear algebra. This is because we're often given a matrix to represent the data itself: the rows of the matrix represent each individual observation in a set of data, and the columns represent a particular feature of the data. We'll get to that more when we get to Pandas."
   ]
  },
  {
   "cell_type": "code",
   "execution_count": 3,
   "metadata": {},
   "outputs": [
    {
     "data": {
      "text/plain": [
       "array([1, 2, 3])"
      ]
     },
     "execution_count": 3,
     "metadata": {},
     "output_type": "execute_result"
    }
   ],
   "source": [
    "# creating a numpy \n",
    "import numpy as np\n",
    "\n",
    "# create a numpy array from a list\n",
    "lst = [1,2,3]\n",
    "np_arr = np.array(lst)\n",
    "np_arr"
   ]
  },
  {
   "cell_type": "code",
   "execution_count": 4,
   "metadata": {},
   "outputs": [
    {
     "name": "stdout",
     "output_type": "stream",
     "text": [
      "(3,)\n"
     ]
    }
   ],
   "source": [
    "# see the shape of the matrix\n",
    "# which we see is a column vector\n",
    "# with 3 entries\n",
    "# (essentially a matrix with three rows and one column)\n",
    "print(np_arr.shape) "
   ]
  },
  {
   "cell_type": "code",
   "execution_count": 6,
   "metadata": {},
   "outputs": [
    {
     "data": {
      "text/plain": [
       "array([[1, 2, 3],\n",
       "       [4, 5, 6],\n",
       "       [7, 8, 9]])"
      ]
     },
     "execution_count": 6,
     "metadata": {},
     "output_type": "execute_result"
    }
   ],
   "source": [
    "# now let's create a 3x3 matrix\n",
    "# must be a list of lists\n",
    "three_by_three = np.array([[1,2,3],[4,5,6],[7,8,9]])\n",
    "three_by_three"
   ]
  },
  {
   "cell_type": "markdown",
   "metadata": {},
   "source": [
    "We deal with numpy arrays in similar ways to lists with regards to indexing them. It's like indexing a list of lists."
   ]
  },
  {
   "cell_type": "code",
   "execution_count": 8,
   "metadata": {},
   "outputs": [
    {
     "data": {
      "text/plain": [
       "3"
      ]
     },
     "execution_count": 8,
     "metadata": {},
     "output_type": "execute_result"
    }
   ],
   "source": [
    "# get entry in the first row of the third column\n",
    "three_by_three[0][2]"
   ]
  },
  {
   "cell_type": "markdown",
   "metadata": {},
   "source": [
    "What if you wanted to get the third column of the matrix?\n",
    "We can also get rows and columns in terms of the following notation:"
   ]
  },
  {
   "cell_type": "code",
   "execution_count": 9,
   "metadata": {},
   "outputs": [
    {
     "data": {
      "text/plain": [
       "array([3, 6, 9])"
      ]
     },
     "execution_count": 9,
     "metadata": {},
     "output_type": "execute_result"
    }
   ],
   "source": [
    "# all rows of the second column\n",
    "# slicing just like with lists\n",
    "three_by_three[:,2]"
   ]
  },
  {
   "cell_type": "markdown",
   "metadata": {},
   "source": [
    "There are a few more complex ways to index things, we just covered the basics. You can find more on this here:\n",
    "https://github.com/trapatsas/Python-Data-Science-and-Machine-Learning-Bootcamp/blob/master/Python-for-Data-Analysis/NumPy/Numpy%20Indexing%20and%20Selection.ipynb"
   ]
  },
  {
   "cell_type": "markdown",
   "metadata": {},
   "source": [
    "We can also do operations on numpy arrays, much like we can with matrices. Of course, just like with matrices, the dimensions have to match up properly."
   ]
  },
  {
   "cell_type": "code",
   "execution_count": 14,
   "metadata": {},
   "outputs": [
    {
     "name": "stdout",
     "output_type": "stream",
     "text": [
      "sum: \n",
      " [[ 5  7]\n",
      " [10  9]]\n",
      "product: \n",
      " [[18 15]\n",
      " [40 35]]\n"
     ]
    }
   ],
   "source": [
    "# addition\n",
    "A = np.array([[1,2],[3,4]])\n",
    "B = np.array([[4,5],[7,5]])\n",
    "C = A + B\n",
    "print(\"sum: \\n {}\".format(C))\n",
    "\n",
    "# multiplication\n",
    "D = A.dot(B)\n",
    "print(\"product: \\n {}\".format(D))"
   ]
  },
  {
   "cell_type": "markdown",
   "metadata": {},
   "source": [
    "These are the basics of Numpy. There are other useful things you can do, including generating an evenly spaced array between two numbers, generating a matrix of numbers sampled from the normal distribution, reshape an array, and more. For a good tutorial/reference guide, go here: https://github.com/trapatsas/Python-Data-Science-and-Machine-Learning-Bootcamp/blob/master/Python-for-Data-Analysis/NumPy/NumPy%20Arrays.ipynb"
   ]
  },
  {
   "cell_type": "code",
   "execution_count": null,
   "metadata": {},
   "outputs": [],
   "source": []
  }
 ],
 "metadata": {
  "kernelspec": {
   "display_name": "Python 2",
   "language": "python",
   "name": "python2"
  },
  "language_info": {
   "codemirror_mode": {
    "name": "ipython",
    "version": 2
   },
   "file_extension": ".py",
   "mimetype": "text/x-python",
   "name": "python",
   "nbconvert_exporter": "python",
   "pygments_lexer": "ipython2",
   "version": "2.7.15"
  }
 },
 "nbformat": 4,
 "nbformat_minor": 2
}
