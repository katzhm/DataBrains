{
 "cells": [
  {
   "cell_type": "markdown",
   "metadata": {},
   "source": [
    "# Python 2 Crash Course - DataBrains"
   ]
  },
  {
   "cell_type": "markdown",
   "metadata": {},
   "source": [
    "This notebook technically covers Python 2, but a lot of these things apply to Python 3: look here for some of the differences between 2 and 3: https://www.geeksforgeeks.org/important-differences-between-python-2-x-and-python-3-x-with-examples/"
   ]
  },
  {
   "cell_type": "markdown",
   "metadata": {},
   "source": [
    "This notebook is meant for individuals with some programming experience."
   ]
  },
  {
   "cell_type": "markdown",
   "metadata": {},
   "source": [
    "Linux command to check your Python version: python --version"
   ]
  },
  {
   "cell_type": "markdown",
   "metadata": {},
   "source": [
    "# Basics"
   ]
  },
  {
   "cell_type": "markdown",
   "metadata": {},
   "source": [
    "## Math"
   ]
  },
  {
   "cell_type": "code",
   "execution_count": 1,
   "metadata": {},
   "outputs": [
    {
     "data": {
      "text/plain": [
       "4"
      ]
     },
     "execution_count": 1,
     "metadata": {},
     "output_type": "execute_result"
    }
   ],
   "source": [
    "2 * 2 # integer multiplication"
   ]
  },
  {
   "cell_type": "code",
   "execution_count": 2,
   "metadata": {},
   "outputs": [
    {
     "data": {
      "text/plain": [
       "4.0"
      ]
     },
     "execution_count": 2,
     "metadata": {},
     "output_type": "execute_result"
    }
   ],
   "source": [
    "2. * 2 # float multiplication"
   ]
  },
  {
   "cell_type": "code",
   "execution_count": 5,
   "metadata": {},
   "outputs": [
    {
     "data": {
      "text/plain": [
       "1"
      ]
     },
     "execution_count": 5,
     "metadata": {},
     "output_type": "execute_result"
    }
   ],
   "source": [
    "5 / 4 # rounded down to nearest integer, different in Python 3"
   ]
  },
  {
   "cell_type": "code",
   "execution_count": 6,
   "metadata": {},
   "outputs": [
    {
     "data": {
      "text/plain": [
       "1.25"
      ]
     },
     "execution_count": 6,
     "metadata": {},
     "output_type": "execute_result"
    }
   ],
   "source": [
    "5. / 4 # if one is a float"
   ]
  },
  {
   "cell_type": "code",
   "execution_count": 7,
   "metadata": {},
   "outputs": [
    {
     "data": {
      "text/plain": [
       "1"
      ]
     },
     "execution_count": 7,
     "metadata": {},
     "output_type": "execute_result"
    }
   ],
   "source": [
    "5 % 4 # mod operator"
   ]
  },
  {
   "cell_type": "code",
   "execution_count": 8,
   "metadata": {},
   "outputs": [
    {
     "data": {
      "text/plain": [
       "4"
      ]
     },
     "execution_count": 8,
     "metadata": {},
     "output_type": "execute_result"
    }
   ],
   "source": [
    "2**2 # power operator"
   ]
  },
  {
   "cell_type": "markdown",
   "metadata": {},
   "source": [
    "## Variables"
   ]
  },
  {
   "cell_type": "code",
   "execution_count": 9,
   "metadata": {},
   "outputs": [
    {
     "data": {
      "text/plain": [
       "7"
      ]
     },
     "execution_count": 9,
     "metadata": {},
     "output_type": "execute_result"
    }
   ],
   "source": [
    "test1 = 4\n",
    "test2 = 3\n",
    "# no need to specify type\n",
    "\n",
    "test1 + test2"
   ]
  },
  {
   "cell_type": "markdown",
   "metadata": {},
   "source": [
    "## Strings"
   ]
  },
  {
   "cell_type": "code",
   "execution_count": 13,
   "metadata": {},
   "outputs": [
    {
     "name": "stdout",
     "output_type": "stream",
     "text": [
      "hello\n",
      "world\n"
     ]
    }
   ],
   "source": [
    "# can use double quotes\n",
    "string = \"hello\"\n",
    "# print statement\n",
    "print(string)\n",
    "\n",
    "# can also use single quotes\n",
    "string2 = 'world'\n",
    "print(string2)"
   ]
  },
  {
   "cell_type": "code",
   "execution_count": 21,
   "metadata": {},
   "outputs": [
    {
     "name": "stdout",
     "output_type": "stream",
     "text": [
      "DataBrains is cool\n"
     ]
    }
   ],
   "source": [
    "# format strings\n",
    "# placeholders are signified by {}\n",
    "club = 'DataBrains'\n",
    "adj = 'cool'\n",
    "print(\"{} is {}\".format(club,adj))"
   ]
  },
  {
   "cell_type": "markdown",
   "metadata": {},
   "source": [
    "Strings are a LOT easier to work with in Python compared to Java and C++. Python trivializes a lot of the things that are annoying to do in other languages."
   ]
  },
  {
   "cell_type": "code",
   "execution_count": 15,
   "metadata": {},
   "outputs": [
    {
     "name": "stdout",
     "output_type": "stream",
     "text": [
      "j\n"
     ]
    }
   ],
   "source": [
    "name = 'Rajesh'\n",
    "\n",
    "# can index a string like a list\n",
    "# using zero-based indexing\n",
    "print(name[2])"
   ]
  },
  {
   "cell_type": "code",
   "execution_count": 23,
   "metadata": {},
   "outputs": [
    {
     "name": "stdout",
     "output_type": "stream",
     "text": [
      "aje\n"
     ]
    }
   ],
   "source": [
    "# get a substring\n",
    "# using 'slicing'\n",
    "# which we discuss later\n",
    "print(name[1:4])"
   ]
  },
  {
   "cell_type": "code",
   "execution_count": 19,
   "metadata": {},
   "outputs": [
    {
     "name": "stdout",
     "output_type": "stream",
     "text": [
      "1\n"
     ]
    }
   ],
   "source": [
    "# can find the index of any character\n",
    "print(name.index('a'))"
   ]
  },
  {
   "cell_type": "code",
   "execution_count": 20,
   "metadata": {},
   "outputs": [
    {
     "name": "stdout",
     "output_type": "stream",
     "text": [
      "Raj is not that dope\n"
     ]
    }
   ],
   "source": [
    "# can replace strings with others\n",
    "sentence = 'Raj is dope'\n",
    "print(sentence.replace('dope','not that dope'))"
   ]
  },
  {
   "cell_type": "code",
   "execution_count": 22,
   "metadata": {},
   "outputs": [
    {
     "name": "stdout",
     "output_type": "stream",
     "text": [
      "['Raj', 'is', 'dope']\n"
     ]
    }
   ],
   "source": [
    "# can split based on spaces\n",
    "# returns list of words split\n",
    "# by the substring\n",
    "print(sentence.split(' '))"
   ]
  },
  {
   "cell_type": "markdown",
   "metadata": {},
   "source": [
    "There are a lot of other cool things you can do with strings in Python, look here for more info:\n",
    "https://www.w3schools.com/python/python_ref_string.asp"
   ]
  },
  {
   "cell_type": "markdown",
   "metadata": {},
   "source": [
    "## Lists"
   ]
  },
  {
   "cell_type": "markdown",
   "metadata": {},
   "source": [
    "Lists are Python's version of an array. They're also a lot easier to work with than arrays."
   ]
  },
  {
   "cell_type": "code",
   "execution_count": 24,
   "metadata": {},
   "outputs": [
    {
     "name": "stdout",
     "output_type": "stream",
     "text": [
      "4\n"
     ]
    }
   ],
   "source": [
    "l = [1,2,4,5]\n",
    "# zero-based indexing\n",
    "print(l[2])"
   ]
  },
  {
   "cell_type": "code",
   "execution_count": 25,
   "metadata": {},
   "outputs": [
    {
     "name": "stdout",
     "output_type": "stream",
     "text": [
      "[2, 4, 5]\n",
      "[2, 4]\n"
     ]
    }
   ],
   "source": [
    "# can get a subset of the list using\n",
    "# index slicing - left inclusive and right exclusive\n",
    "# ':' signifies 'all'\n",
    "\n",
    "# indexes 1 to the rest of the array\n",
    "print(l[1:])\n",
    "\n",
    "# indexes 1 to the fourth element, exludes fourth element\n",
    "# (because of zero-based indexing)\n",
    "print(l[1:3])"
   ]
  },
  {
   "cell_type": "code",
   "execution_count": 26,
   "metadata": {},
   "outputs": [
    {
     "name": "stdout",
     "output_type": "stream",
     "text": [
      "['string', 2]\n"
     ]
    }
   ],
   "source": [
    "# lists can contain elements of multiple types\n",
    "l2 = ['string',2]\n",
    "print(l2) "
   ]
  },
  {
   "cell_type": "code",
   "execution_count": 28,
   "metadata": {},
   "outputs": [
    {
     "data": {
      "text/plain": [
       "2"
      ]
     },
     "execution_count": 28,
     "metadata": {},
     "output_type": "execute_result"
    }
   ],
   "source": [
    "# lists can contain lists too\n",
    "l3 = ['string',4,[1,2]]\n",
    "\n",
    "# we index with two numbers\n",
    "l3[2][1]"
   ]
  },
  {
   "cell_type": "code",
   "execution_count": 47,
   "metadata": {},
   "outputs": [
    {
     "name": "stdout",
     "output_type": "stream",
     "text": [
      "[1, 3, 4, 2, 9]\n"
     ]
    }
   ],
   "source": [
    "# some helpful built in funcs that lists have\n",
    "# add to end of list\n",
    "l4 = [1,3,4,2]\n",
    "l4.append(9)\n",
    "print(l4)"
   ]
  },
  {
   "cell_type": "code",
   "execution_count": 51,
   "metadata": {},
   "outputs": [
    {
     "name": "stdout",
     "output_type": "stream",
     "text": [
      "4\n",
      "[0, 0, 1, 2, 3, 4]\n"
     ]
    }
   ],
   "source": [
    "# find index of element\n",
    "\n",
    "# numbers from 0 inclusive to 5 exclusive\n",
    "L5 = range(0,5)\n",
    "print(L5.index(4))\n",
    "\n",
    "# insert 0 at 0th element\n",
    "# and moves rest of list over \n",
    "L5.insert(0,0)\n",
    "print(L5)"
   ]
  },
  {
   "cell_type": "markdown",
   "metadata": {},
   "source": [
    "There are a lot more useful functions on lists that can be found here:\n",
    "https://www.programiz.com/python-programming/methods/list"
   ]
  },
  {
   "cell_type": "markdown",
   "metadata": {},
   "source": [
    "## For loops"
   ]
  },
  {
   "cell_type": "code",
   "execution_count": 29,
   "metadata": {},
   "outputs": [
    {
     "name": "stdout",
     "output_type": "stream",
     "text": [
      "0\n",
      "1\n",
      "2\n",
      "3\n",
      "4\n",
      "5\n",
      "6\n",
      "7\n",
      "8\n",
      "9\n"
     ]
    }
   ],
   "source": [
    "# an example for loop\n",
    "\n",
    "# python uses tabs instead of\n",
    "# brackets to define scopes\n",
    "\n",
    "# from 0 to 10 not including 10\n",
    "# keep in mind that range(0,10) is a list\n",
    "for i in range(0,10):\n",
    "    print(i)"
   ]
  },
  {
   "cell_type": "code",
   "execution_count": 30,
   "metadata": {},
   "outputs": [
    {
     "name": "stdout",
     "output_type": "stream",
     "text": [
      "1\n",
      "3\n",
      "yo\n"
     ]
    }
   ],
   "source": [
    "# can iterate through lists\n",
    "# easily so you don't need to\n",
    "# index them\n",
    "\n",
    "lst = [1,3,'yo']\n",
    "for elem in lst:\n",
    "    print(elem)"
   ]
  },
  {
   "cell_type": "markdown",
   "metadata": {},
   "source": [
    "## While loops"
   ]
  },
  {
   "cell_type": "code",
   "execution_count": 34,
   "metadata": {},
   "outputs": [
    {
     "name": "stdout",
     "output_type": "stream",
     "text": [
      "5\n",
      "4\n",
      "3\n",
      "2\n",
      "1\n"
     ]
    }
   ],
   "source": [
    "count = 5\n",
    "# we will get to conditional\n",
    "# statements and bools later\n",
    "while (count>0):\n",
    "    print(count)\n",
    "    count-=1"
   ]
  },
  {
   "cell_type": "markdown",
   "metadata": {},
   "source": [
    "## If statements, Logical Operators, and Booleans"
   ]
  },
  {
   "cell_type": "code",
   "execution_count": 35,
   "metadata": {},
   "outputs": [
    {
     "data": {
      "text/plain": [
       "False"
      ]
     },
     "execution_count": 35,
     "metadata": {},
     "output_type": "execute_result"
    }
   ],
   "source": [
    "# examples\n",
    "True and False"
   ]
  },
  {
   "cell_type": "code",
   "execution_count": 36,
   "metadata": {},
   "outputs": [
    {
     "data": {
      "text/plain": [
       "True"
      ]
     },
     "execution_count": 36,
     "metadata": {},
     "output_type": "execute_result"
    }
   ],
   "source": [
    "True or False"
   ]
  },
  {
   "cell_type": "code",
   "execution_count": 37,
   "metadata": {},
   "outputs": [
    {
     "data": {
      "text/plain": [
       "True"
      ]
     },
     "execution_count": 37,
     "metadata": {},
     "output_type": "execute_result"
    }
   ],
   "source": [
    "not False"
   ]
  },
  {
   "cell_type": "code",
   "execution_count": 38,
   "metadata": {},
   "outputs": [
    {
     "data": {
      "text/plain": [
       "True"
      ]
     },
     "execution_count": 38,
     "metadata": {},
     "output_type": "execute_result"
    }
   ],
   "source": [
    "2 == 2"
   ]
  },
  {
   "cell_type": "code",
   "execution_count": 39,
   "metadata": {},
   "outputs": [
    {
     "data": {
      "text/plain": [
       "False"
      ]
     },
     "execution_count": 39,
     "metadata": {},
     "output_type": "execute_result"
    }
   ],
   "source": [
    "2 > 3"
   ]
  },
  {
   "cell_type": "code",
   "execution_count": 40,
   "metadata": {},
   "outputs": [
    {
     "data": {
      "text/plain": [
       "True"
      ]
     },
     "execution_count": 40,
     "metadata": {},
     "output_type": "execute_result"
    }
   ],
   "source": [
    "(2==3) or (2<3)"
   ]
  },
  {
   "cell_type": "code",
   "execution_count": 41,
   "metadata": {},
   "outputs": [
    {
     "name": "stdout",
     "output_type": "stream",
     "text": [
      "tru\n"
     ]
    }
   ],
   "source": [
    "# now to if statements\n",
    "\n",
    "# remember, we use tabs\n",
    "# not brackets for scopes\n",
    "if (2<3):\n",
    "    print('tru')"
   ]
  },
  {
   "cell_type": "code",
   "execution_count": 43,
   "metadata": {},
   "outputs": [
    {
     "name": "stdout",
     "output_type": "stream",
     "text": [
      "smaller\n"
     ]
    }
   ],
   "source": [
    "var = 5\n",
    "if (2<var):\n",
    "    print('smaller')"
   ]
  },
  {
   "cell_type": "code",
   "execution_count": 44,
   "metadata": {},
   "outputs": [
    {
     "name": "stdout",
     "output_type": "stream",
     "text": [
      "yup\n"
     ]
    }
   ],
   "source": [
    "# else statement\n",
    "if var == 5:\n",
    "    print('yup')\n",
    "else:\n",
    "    print('nope')"
   ]
  },
  {
   "cell_type": "code",
   "execution_count": 46,
   "metadata": {},
   "outputs": [
    {
     "name": "stdout",
     "output_type": "stream",
     "text": [
      "greater than 7\n"
     ]
    }
   ],
   "source": [
    "# else if statement\n",
    "num = 8\n",
    "if (num==7):\n",
    "    print('equal to 7')\n",
    "elif (num>7):\n",
    "    print('greater than 7')\n",
    "else:\n",
    "    ('will not get here')"
   ]
  },
  {
   "cell_type": "markdown",
   "metadata": {},
   "source": [
    "## Functions"
   ]
  },
  {
   "cell_type": "code",
   "execution_count": 50,
   "metadata": {},
   "outputs": [
    {
     "name": "stdout",
     "output_type": "stream",
     "text": [
      "example\n"
     ]
    }
   ],
   "source": [
    "# tabs, not brackets\n",
    "\n",
    "def helloWorld():\n",
    "    print(\"hello world\")\n",
    "# can return things\n",
    "# don't need to specify the type of parameter\n",
    "def example_func(param):\n",
    "    return param\n",
    "\n",
    "print(example_func('example'))"
   ]
  },
  {
   "cell_type": "markdown",
   "metadata": {},
   "source": [
    "# List Comprehensions"
   ]
  },
  {
   "cell_type": "markdown",
   "metadata": {},
   "source": [
    "List comprehensions are a way of creating a new list that performs a function on every element in the list. They're really helpful/intuitive. Here's the format:\n",
    "\n",
    "new list = ['function on element' for element in list]"
   ]
  },
  {
   "cell_type": "code",
   "execution_count": 54,
   "metadata": {},
   "outputs": [
    {
     "name": "stdout",
     "output_type": "stream",
     "text": [
      "[0, 1, 4, 9, 16, 25]\n",
      "[0, 1, 4, 9, 16, 25]\n"
     ]
    }
   ],
   "source": [
    "# example: create a list that contains the square of every number of a particular list\n",
    "lst = range(0,6)\n",
    "\n",
    "# could do:\n",
    "new_lst = []\n",
    "for elem in lst:\n",
    "    new_lst.append(elem**2)\n",
    "\n",
    "print(new_lst)\n",
    "    \n",
    "# but we could also do\n",
    "new_lst_compr = [elem**2 for elem in lst]\n",
    "\n",
    "print(new_lst_compr)"
   ]
  },
  {
   "cell_type": "code",
   "execution_count": 56,
   "metadata": {},
   "outputs": [
    {
     "name": "stdout",
     "output_type": "stream",
     "text": [
      "[4, 16, 25, 4]\n"
     ]
    }
   ],
   "source": [
    "# could combine with functions\n",
    "\n",
    "lst = [2,4,5,2]\n",
    "def func(x):\n",
    "    return x**2\n",
    "\n",
    "func_lst_compr = [func(x) for x in lst]\n",
    "print(func_lst_compr)"
   ]
  },
  {
   "cell_type": "markdown",
   "metadata": {},
   "source": [
    "## Dictionaries"
   ]
  },
  {
   "cell_type": "markdown",
   "metadata": {},
   "source": [
    "Dictionaries are Python implementation's of hash maps. Hash maps are data structures that store in terms of key value pairs. Since you don't have to iterate through the entire hash map, looking into a dictionary is really efficient."
   ]
  },
  {
   "cell_type": "code",
   "execution_count": 57,
   "metadata": {},
   "outputs": [
    {
     "name": "stdout",
     "output_type": "stream",
     "text": [
      "world\n",
      "{'new_key': 'new value', 'Data': 'Brains', 'hello': 'changed hello'}\n"
     ]
    }
   ],
   "source": [
    "# keys are immutable, but their values aren't. \n",
    "# this means that you can't change the key for a particular value,\n",
    "# but you can change the value for a particular key\n",
    "# it either indexes the key in the dictionary \n",
    "example_dict = {'hello':'world','Data':'Brains'}\n",
    "\n",
    "# index with brackets\n",
    "print(example_dict['hello'])\n",
    "\n",
    "# changes value at that key\n",
    "example_dict['hello'] = 'changed hello'\n",
    "\n",
    "# creates a new key because key doesn't exist.\n",
    "example_dict['new_key'] = 'new value'\n",
    "\n",
    "print(example_dict)"
   ]
  },
  {
   "cell_type": "code",
   "execution_count": 58,
   "metadata": {},
   "outputs": [
    {
     "data": {
      "text/plain": [
       "['new_key', 'Data', 'hello']"
      ]
     },
     "execution_count": 58,
     "metadata": {},
     "output_type": "execute_result"
    }
   ],
   "source": [
    "# get list of keys\n",
    "example_dict.keys()"
   ]
  },
  {
   "cell_type": "code",
   "execution_count": 59,
   "metadata": {},
   "outputs": [
    {
     "data": {
      "text/plain": [
       "[('new_key', 'new value'), ('Data', 'Brains'), ('hello', 'changed hello')]"
      ]
     },
     "execution_count": 59,
     "metadata": {},
     "output_type": "execute_result"
    }
   ],
   "source": [
    "# get list of key value pairs\n",
    "example_dict.items()"
   ]
  },
  {
   "cell_type": "markdown",
   "metadata": {},
   "source": [
    "Note that this returns tuples. Tuples are like mini immutable (unchangeable) lists. You can read more about those here: https://www.programiz.com/python-programming/tuple"
   ]
  },
  {
   "cell_type": "markdown",
   "metadata": {},
   "source": [
    "## End!"
   ]
  },
  {
   "cell_type": "markdown",
   "metadata": {},
   "source": [
    "Some of the things we didn't touch on:\n",
    "- Lambda Expressions : https://www.w3schools.com/python/python_lambda.asp\n",
    "- Zipping lists: https://www.programiz.com/python-programming/methods/built-in/zip\n",
    "- Collections module: https://docs.python.org/2/library/collections.html\n",
    "- Other more advanced topics such as OOP, modules, etc, regular expressions."
   ]
  },
  {
   "cell_type": "code",
   "execution_count": null,
   "metadata": {},
   "outputs": [],
   "source": []
  }
 ],
 "metadata": {
  "kernelspec": {
   "display_name": "Python 2",
   "language": "python",
   "name": "python2"
  },
  "language_info": {
   "codemirror_mode": {
    "name": "ipython",
    "version": 2
   },
   "file_extension": ".py",
   "mimetype": "text/x-python",
   "name": "python",
   "nbconvert_exporter": "python",
   "pygments_lexer": "ipython2",
   "version": "2.7.15"
  }
 },
 "nbformat": 4,
 "nbformat_minor": 2
}
